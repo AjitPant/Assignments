{
 "cells": [
  {
   "cell_type": "code",
   "execution_count": 1,
   "metadata": {
    "_uuid": "e1c94bd318ae67c0f8f883e2d676aea7938bda0f"
   },
   "outputs": [],
   "source": [
    "import torch\n",
    "import torch.nn as nn\n",
    "import torch.utils.data as data\n",
    "\n",
    "import random\n",
    "from tqdm import tqdm_notebook as tqdm\n",
    "random.seed(42)"
   ]
  },
  {
   "cell_type": "code",
   "execution_count": 2,
   "metadata": {
    "_uuid": "59d67d587f14409aafee12b5f49bb493583f838b"
   },
   "outputs": [],
   "source": [
    "import random\n"
   ]
  },
  {
   "cell_type": "code",
   "execution_count": 3,
   "metadata": {
    "_uuid": "0c84b6573ba20ceaf21c5feaddcc564e987dcd77"
   },
   "outputs": [],
   "source": [
    "class DataLoader(data.Dataset):\n",
    "    def __init__(self,max_train_value=1000, max_n=100,training_set_size=1000):\n",
    "        random_a_b_s=torch.sort(torch.randint(low=1,high=max_train_value+1,size=(training_set_size,2)))[0].double()\n",
    "        random_n_s=torch.randint(low=3,high=max_n, size=(training_set_size,1)).double()\n",
    "        self.lis_expected_outputs=[]\n",
    "        self.lis_inputs=[]\n",
    "        for index in range(training_set_size):\n",
    "            temp_input=[0,0,0]\n",
    "\n",
    "            temp_input[0]=random_a_b_s[index][0]\n",
    "            temp_input[1]=random_a_b_s[index][1]\n",
    "            temp_input[2]=random_n_s[index]\n",
    "            expected_output=[temp_input[0],temp_input[1]]\n",
    "            for i in range(int(temp_input[2])-2):\n",
    "                expected_output.append(expected_output[i]+expected_output[i+1])\n",
    "            input=torch.tensor(temp_input, dtype=torch.float64).unsqueeze(0)\n",
    "\n",
    "            output=torch.tensor(expected_output, dtype=torch.float64)\n",
    "            self.lis_expected_outputs.append(output)\n",
    "            self.lis_inputs.append(input)\n",
    "    def __len__(self):\n",
    "        return len(self.lis_inputs)\n",
    "    def __getitem__(self, idx):\n",
    "        dic_in_out={'input':self.lis_inputs[idx] , 'output':self.lis_expected_outputs[idx]}\n",
    "        return dic_in_out"
   ]
  },
  {
   "cell_type": "code",
   "execution_count": 4,
   "metadata": {
    "_uuid": "728825c2a2d00c2c183da4a67eef81aad5d713ff"
   },
   "outputs": [],
   "source": [
    "\n",
    "\n",
    "class MODEL(nn.Module):\n",
    "    def __init__(self , input_size ,hidden_size,  output_size):\n",
    "        super(MODEL, self).__init__()\n",
    "        self.hidden_size=hidden_size\n",
    "        self.i2h=nn.Linear(input_size+hidden_size, hidden_size,bias=False).double()\n",
    "        self.i2o=nn.Linear(input_size+hidden_size, output_size,bias=False).double()\n",
    "\n",
    "\n",
    "    def step(self, input , hidden):\n",
    "        combined=torch.cat((input,hidden),1)\n",
    "        hidden=self.i2h(combined)\n",
    "        output=self.i2o(combined)\n",
    "        return output,hidden\n",
    "    def forward(self , input):\n",
    "        hidden=self.initHidden()\n",
    "        n=int(input[0][2])\n",
    "        a=torch.tensor([int(input[0][0])],dtype=torch.float64).unsqueeze(0)\n",
    "        b=torch.tensor([int(input[0][1])] ,dtype=torch.float64).unsqueeze(0)\n",
    "\n",
    "        predictions=torch.zeros(size=(1,n)).double()\n",
    "        predictions[0,0]=a\n",
    "        predictions[0,1]=b\n",
    "        _,hidden=self.step(torch.tensor([a[0,0]], dtype=torch.float64).clone().unsqueeze(0),hidden)\n",
    "        for i in range(n-2):\n",
    "            temp_output,hidden=self.step(torch.tensor([predictions[0,i+1]] , dtype=torch.float64).clone().unsqueeze(0) , hidden)\n",
    "            predictions[0,i+2]=temp_output[0]\n",
    "        return predictions\n",
    "    def initHidden(self):\n",
    "        return torch.zeros(1, self.hidden_size).double()\n"
   ]
  },
  {
   "cell_type": "code",
   "execution_count": 5,
   "metadata": {
    "_uuid": "c4a295d298c2cc9797bc3cf87be725acf21c64cc"
   },
   "outputs": [],
   "source": [
    "\n",
    "n_hidden=1\n",
    "n_input=1\n",
    "n_output=1\n",
    "\n",
    "model=MODEL(n_input, n_hidden , n_output)"
   ]
  },
  {
   "cell_type": "code",
   "execution_count": 6,
   "metadata": {},
   "outputs": [],
   "source": [
    "def RelativeMSE(output, target):\n",
    "    return torch.mean(torch.mul(1/target , (target-output))**2)"
   ]
  },
  {
   "cell_type": "code",
   "execution_count": 7,
   "metadata": {
    "_uuid": "36df84f88ac178dff1fe56ae90bf200d29ba700d"
   },
   "outputs": [],
   "source": [
    "criterion=RelativeMSE"
   ]
  },
  {
   "cell_type": "code",
   "execution_count": 17,
   "metadata": {
    "_uuid": "5c94fb4226436f717434c56630b4bb8e45b3c419"
   },
   "outputs": [],
   "source": [
    "learning_rate=1e-2\n",
    "optimizer=torch.optim.Adam(model.parameters(),lr=learning_rate )\n",
    "def train(epochs=30):\n",
    "    dataset=DataLoader()\n",
    "    for i in tqdm(range(epochs), desc = 'epochs'):\n",
    "        for idx in tqdm(range(len(dataset)) , desc='sample'):\n",
    "            sample=dataset[idx]\n",
    "            input=sample['input']\n",
    "            expected_output=sample['output']\n",
    "            predictions=model(input )\n",
    "            loss=criterion(predictions , expected_output)\n",
    "\n",
    "            optimizer.zero_grad()\n",
    "\n",
    "            loss.backward()\n",
    "\n",
    "            clip=100\n",
    "            nn.utils.clip_grad_norm_(model.parameters() , clip)\n",
    "            optimizer.step()\n",
    "        \n",
    "\n",
    "    \n"
   ]
  },
  {
   "cell_type": "code",
   "execution_count": 22,
   "metadata": {
    "_uuid": "67c5741c122d81bbcbba725168330118514b93e2"
   },
   "outputs": [
    {
     "data": {
      "application/vnd.jupyter.widget-view+json": {
       "model_id": "a4e14c6179014225be7901840ed9d455",
       "version_major": 2,
       "version_minor": 0
      },
      "text/plain": [
       "HBox(children=(IntProgress(value=0, description='epochs', max=30, style=ProgressStyle(description_width='initi…"
      ]
     },
     "metadata": {},
     "output_type": "display_data"
    },
    {
     "data": {
      "application/vnd.jupyter.widget-view+json": {
       "model_id": "8deda6792dee4f6bba16974e1aa5d184",
       "version_major": 2,
       "version_minor": 0
      },
      "text/plain": [
       "HBox(children=(IntProgress(value=0, description='sample', max=1000, style=ProgressStyle(description_width='ini…"
      ]
     },
     "metadata": {},
     "output_type": "display_data"
    },
    {
     "data": {
      "application/vnd.jupyter.widget-view+json": {
       "model_id": "ae0851e275c64df2b994887a7aa1836e",
       "version_major": 2,
       "version_minor": 0
      },
      "text/plain": [
       "HBox(children=(IntProgress(value=0, description='sample', max=1000, style=ProgressStyle(description_width='ini…"
      ]
     },
     "metadata": {},
     "output_type": "display_data"
    },
    {
     "data": {
      "application/vnd.jupyter.widget-view+json": {
       "model_id": "05b3b78154b24472a63c798f47b0db36",
       "version_major": 2,
       "version_minor": 0
      },
      "text/plain": [
       "HBox(children=(IntProgress(value=0, description='sample', max=1000, style=ProgressStyle(description_width='ini…"
      ]
     },
     "metadata": {},
     "output_type": "display_data"
    },
    {
     "data": {
      "application/vnd.jupyter.widget-view+json": {
       "model_id": "218cbc45230645abbeff4fc89129d615",
       "version_major": 2,
       "version_minor": 0
      },
      "text/plain": [
       "HBox(children=(IntProgress(value=0, description='sample', max=1000, style=ProgressStyle(description_width='ini…"
      ]
     },
     "metadata": {},
     "output_type": "display_data"
    },
    {
     "data": {
      "application/vnd.jupyter.widget-view+json": {
       "model_id": "a603b4af83f644ec933c19da9d8ce8f6",
       "version_major": 2,
       "version_minor": 0
      },
      "text/plain": [
       "HBox(children=(IntProgress(value=0, description='sample', max=1000, style=ProgressStyle(description_width='ini…"
      ]
     },
     "metadata": {},
     "output_type": "display_data"
    },
    {
     "data": {
      "application/vnd.jupyter.widget-view+json": {
       "model_id": "40c2df282391457987643c2143b65532",
       "version_major": 2,
       "version_minor": 0
      },
      "text/plain": [
       "HBox(children=(IntProgress(value=0, description='sample', max=1000, style=ProgressStyle(description_width='ini…"
      ]
     },
     "metadata": {},
     "output_type": "display_data"
    },
    {
     "data": {
      "application/vnd.jupyter.widget-view+json": {
       "model_id": "fa0717f434ec4910b53a90aa0ed1ae3a",
       "version_major": 2,
       "version_minor": 0
      },
      "text/plain": [
       "HBox(children=(IntProgress(value=0, description='sample', max=1000, style=ProgressStyle(description_width='ini…"
      ]
     },
     "metadata": {},
     "output_type": "display_data"
    },
    {
     "data": {
      "application/vnd.jupyter.widget-view+json": {
       "model_id": "2ba23edfeaa84a74ae7e9a916c1c4717",
       "version_major": 2,
       "version_minor": 0
      },
      "text/plain": [
       "HBox(children=(IntProgress(value=0, description='sample', max=1000, style=ProgressStyle(description_width='ini…"
      ]
     },
     "metadata": {},
     "output_type": "display_data"
    },
    {
     "data": {
      "application/vnd.jupyter.widget-view+json": {
       "model_id": "c32a4cf76f1a40d38bff1f0c768308eb",
       "version_major": 2,
       "version_minor": 0
      },
      "text/plain": [
       "HBox(children=(IntProgress(value=0, description='sample', max=1000, style=ProgressStyle(description_width='ini…"
      ]
     },
     "metadata": {},
     "output_type": "display_data"
    },
    {
     "data": {
      "application/vnd.jupyter.widget-view+json": {
       "model_id": "2d971c0f084541d98fb28765e8edbe0b",
       "version_major": 2,
       "version_minor": 0
      },
      "text/plain": [
       "HBox(children=(IntProgress(value=0, description='sample', max=1000, style=ProgressStyle(description_width='ini…"
      ]
     },
     "metadata": {},
     "output_type": "display_data"
    },
    {
     "data": {
      "application/vnd.jupyter.widget-view+json": {
       "model_id": "660058db5cb444558448774348cc8ddc",
       "version_major": 2,
       "version_minor": 0
      },
      "text/plain": [
       "HBox(children=(IntProgress(value=0, description='sample', max=1000, style=ProgressStyle(description_width='ini…"
      ]
     },
     "metadata": {},
     "output_type": "display_data"
    },
    {
     "data": {
      "application/vnd.jupyter.widget-view+json": {
       "model_id": "3b17695eb9614ec1b6c957ea8e8e0dc3",
       "version_major": 2,
       "version_minor": 0
      },
      "text/plain": [
       "HBox(children=(IntProgress(value=0, description='sample', max=1000, style=ProgressStyle(description_width='ini…"
      ]
     },
     "metadata": {},
     "output_type": "display_data"
    },
    {
     "data": {
      "application/vnd.jupyter.widget-view+json": {
       "model_id": "9a270c0bb3814272839afd3f278b4916",
       "version_major": 2,
       "version_minor": 0
      },
      "text/plain": [
       "HBox(children=(IntProgress(value=0, description='sample', max=1000, style=ProgressStyle(description_width='ini…"
      ]
     },
     "metadata": {},
     "output_type": "display_data"
    },
    {
     "data": {
      "application/vnd.jupyter.widget-view+json": {
       "model_id": "69026f9d9afa4aaaa0c08f2924fc3578",
       "version_major": 2,
       "version_minor": 0
      },
      "text/plain": [
       "HBox(children=(IntProgress(value=0, description='sample', max=1000, style=ProgressStyle(description_width='ini…"
      ]
     },
     "metadata": {},
     "output_type": "display_data"
    },
    {
     "data": {
      "application/vnd.jupyter.widget-view+json": {
       "model_id": "1872c24dc7d64f5b81ddd265f1aa9a0c",
       "version_major": 2,
       "version_minor": 0
      },
      "text/plain": [
       "HBox(children=(IntProgress(value=0, description='sample', max=1000, style=ProgressStyle(description_width='ini…"
      ]
     },
     "metadata": {},
     "output_type": "display_data"
    },
    {
     "data": {
      "application/vnd.jupyter.widget-view+json": {
       "model_id": "a22823d80ebe46d1abef50f5b3b83387",
       "version_major": 2,
       "version_minor": 0
      },
      "text/plain": [
       "HBox(children=(IntProgress(value=0, description='sample', max=1000, style=ProgressStyle(description_width='ini…"
      ]
     },
     "metadata": {},
     "output_type": "display_data"
    },
    {
     "data": {
      "application/vnd.jupyter.widget-view+json": {
       "model_id": "2fb1e486156740eab52b8951b8e8bf6f",
       "version_major": 2,
       "version_minor": 0
      },
      "text/plain": [
       "HBox(children=(IntProgress(value=0, description='sample', max=1000, style=ProgressStyle(description_width='ini…"
      ]
     },
     "metadata": {},
     "output_type": "display_data"
    },
    {
     "data": {
      "application/vnd.jupyter.widget-view+json": {
       "model_id": "5c941780acc54e7e91aed51727060540",
       "version_major": 2,
       "version_minor": 0
      },
      "text/plain": [
       "HBox(children=(IntProgress(value=0, description='sample', max=1000, style=ProgressStyle(description_width='ini…"
      ]
     },
     "metadata": {},
     "output_type": "display_data"
    },
    {
     "data": {
      "application/vnd.jupyter.widget-view+json": {
       "model_id": "f468408ad98044c49400a87dc4f758b4",
       "version_major": 2,
       "version_minor": 0
      },
      "text/plain": [
       "HBox(children=(IntProgress(value=0, description='sample', max=1000, style=ProgressStyle(description_width='ini…"
      ]
     },
     "metadata": {},
     "output_type": "display_data"
    },
    {
     "data": {
      "application/vnd.jupyter.widget-view+json": {
       "model_id": "f5b9f4d461b1460cb15764a1435f6c17",
       "version_major": 2,
       "version_minor": 0
      },
      "text/plain": [
       "HBox(children=(IntProgress(value=0, description='sample', max=1000, style=ProgressStyle(description_width='ini…"
      ]
     },
     "metadata": {},
     "output_type": "display_data"
    },
    {
     "data": {
      "application/vnd.jupyter.widget-view+json": {
       "model_id": "fb23053d57934c828475c5a962395f44",
       "version_major": 2,
       "version_minor": 0
      },
      "text/plain": [
       "HBox(children=(IntProgress(value=0, description='sample', max=1000, style=ProgressStyle(description_width='ini…"
      ]
     },
     "metadata": {},
     "output_type": "display_data"
    },
    {
     "data": {
      "application/vnd.jupyter.widget-view+json": {
       "model_id": "46aecf77bc0a4bbaaa5a739c5b1ca10f",
       "version_major": 2,
       "version_minor": 0
      },
      "text/plain": [
       "HBox(children=(IntProgress(value=0, description='sample', max=1000, style=ProgressStyle(description_width='ini…"
      ]
     },
     "metadata": {},
     "output_type": "display_data"
    },
    {
     "data": {
      "application/vnd.jupyter.widget-view+json": {
       "model_id": "c163948f33aa435bbe7042826568364d",
       "version_major": 2,
       "version_minor": 0
      },
      "text/plain": [
       "HBox(children=(IntProgress(value=0, description='sample', max=1000, style=ProgressStyle(description_width='ini…"
      ]
     },
     "metadata": {},
     "output_type": "display_data"
    },
    {
     "data": {
      "application/vnd.jupyter.widget-view+json": {
       "model_id": "31369bd139934410b41506aff2aec365",
       "version_major": 2,
       "version_minor": 0
      },
      "text/plain": [
       "HBox(children=(IntProgress(value=0, description='sample', max=1000, style=ProgressStyle(description_width='ini…"
      ]
     },
     "metadata": {},
     "output_type": "display_data"
    },
    {
     "data": {
      "application/vnd.jupyter.widget-view+json": {
       "model_id": "fe1e7c93612248078a4440b4f2edd2e6",
       "version_major": 2,
       "version_minor": 0
      },
      "text/plain": [
       "HBox(children=(IntProgress(value=0, description='sample', max=1000, style=ProgressStyle(description_width='ini…"
      ]
     },
     "metadata": {},
     "output_type": "display_data"
    },
    {
     "data": {
      "application/vnd.jupyter.widget-view+json": {
       "model_id": "e3f74492d09d4e67987e24806c2ea1b3",
       "version_major": 2,
       "version_minor": 0
      },
      "text/plain": [
       "HBox(children=(IntProgress(value=0, description='sample', max=1000, style=ProgressStyle(description_width='ini…"
      ]
     },
     "metadata": {},
     "output_type": "display_data"
    },
    {
     "data": {
      "application/vnd.jupyter.widget-view+json": {
       "model_id": "5e25b89e6b7543b08078b1cea8f75003",
       "version_major": 2,
       "version_minor": 0
      },
      "text/plain": [
       "HBox(children=(IntProgress(value=0, description='sample', max=1000, style=ProgressStyle(description_width='ini…"
      ]
     },
     "metadata": {},
     "output_type": "display_data"
    },
    {
     "data": {
      "application/vnd.jupyter.widget-view+json": {
       "model_id": "6f8bebb2464d43b981b7567d5c6a3cfc",
       "version_major": 2,
       "version_minor": 0
      },
      "text/plain": [
       "HBox(children=(IntProgress(value=0, description='sample', max=1000, style=ProgressStyle(description_width='ini…"
      ]
     },
     "metadata": {},
     "output_type": "display_data"
    },
    {
     "data": {
      "application/vnd.jupyter.widget-view+json": {
       "model_id": "84ed878a79f04a65a30462473131f817",
       "version_major": 2,
       "version_minor": 0
      },
      "text/plain": [
       "HBox(children=(IntProgress(value=0, description='sample', max=1000, style=ProgressStyle(description_width='ini…"
      ]
     },
     "metadata": {},
     "output_type": "display_data"
    },
    {
     "data": {
      "application/vnd.jupyter.widget-view+json": {
       "model_id": "3f3e2adc59f04f9f9ba8ca3ec28c6ab7",
       "version_major": 2,
       "version_minor": 0
      },
      "text/plain": [
       "HBox(children=(IntProgress(value=0, description='sample', max=1000, style=ProgressStyle(description_width='ini…"
      ]
     },
     "metadata": {},
     "output_type": "display_data"
    },
    {
     "name": "stdout",
     "output_type": "stream",
     "text": [
      "\n"
     ]
    }
   ],
   "source": [
    "train()"
   ]
  },
  {
   "cell_type": "code",
   "execution_count": 23,
   "metadata": {
    "_uuid": "257b55f8f3957d86a41fc4c2b1cd3983e66fc50c"
   },
   "outputs": [
    {
     "name": "stdout",
     "output_type": "stream",
     "text": [
      "tensor([[ 13.0000,  40.0000,  53.3243,  93.4055, 146.7079]],\n",
      "       dtype=torch.float64, grad_fn=<CopySlices>)\n"
     ]
    }
   ],
   "source": [
    "\n",
    "output=(model(torch.tensor([13,40,5], dtype=torch.float64).unsqueeze(0)))\n",
    "print(output)\n"
   ]
  },
  {
   "cell_type": "code",
   "execution_count": 24,
   "metadata": {
    "_uuid": "9cc281edc87b77fc65aba37af2b9d236d1d7fb73"
   },
   "outputs": [
    {
     "name": "stdout",
     "output_type": "stream",
     "text": [
      "tensor([[1.0102, 0.9180]], dtype=torch.float64)\n",
      "tensor([[ 1.0824, -0.0160]], dtype=torch.float64)\n"
     ]
    }
   ],
   "source": [
    "print(model.i2o.weight.data)\n",
    "print(model.i2h.weight.data)"
   ]
  },
  {
   "cell_type": "code",
   "execution_count": 25,
   "metadata": {
    "_uuid": "8094f0a50da6ca5831433730357688a4dd375824"
   },
   "outputs": [],
   "source": [
    "#save the maodel to a data file\n",
    "torch.save(model, \"./data.pt\")"
   ]
  },
  {
   "cell_type": "code",
   "execution_count": null,
   "metadata": {
    "_uuid": "ea2832cc781727025d826d27a4ba58c581548e4c"
   },
   "outputs": [],
   "source": []
  },
  {
   "cell_type": "code",
   "execution_count": null,
   "metadata": {
    "_uuid": "433bc276c039f28614211db2736ad62c29c8c6b8"
   },
   "outputs": [],
   "source": []
  },
  {
   "cell_type": "code",
   "execution_count": null,
   "metadata": {
    "_uuid": "c79358b49ec767dd0c841dc3e53b3b40b62eb4c7"
   },
   "outputs": [],
   "source": []
  },
  {
   "cell_type": "code",
   "execution_count": null,
   "metadata": {
    "_uuid": "7659540d216e3b927344fc03ddb15ebccd1f9db6"
   },
   "outputs": [],
   "source": []
  },
  {
   "cell_type": "code",
   "execution_count": null,
   "metadata": {
    "_uuid": "78fcd3d475ac43759cb42e056249fa1bf50a41d7"
   },
   "outputs": [],
   "source": []
  },
  {
   "cell_type": "code",
   "execution_count": null,
   "metadata": {
    "_uuid": "8a7873464a5bc6871ff0790406a0544dbbfc0fab"
   },
   "outputs": [],
   "source": []
  },
  {
   "cell_type": "code",
   "execution_count": null,
   "metadata": {
    "_uuid": "c1d993def69d64f517c6713ac9e2b61793a87550"
   },
   "outputs": [],
   "source": []
  },
  {
   "cell_type": "code",
   "execution_count": null,
   "metadata": {
    "_uuid": "326069f1413e4660f10cdb1bc02543ee07609a8d"
   },
   "outputs": [],
   "source": []
  },
  {
   "cell_type": "code",
   "execution_count": null,
   "metadata": {
    "_uuid": "06cf6fabb0f829a351da556f953f9294c99043dc"
   },
   "outputs": [],
   "source": []
  },
  {
   "cell_type": "code",
   "execution_count": null,
   "metadata": {
    "_uuid": "a014ca925d20e3e8ffafbb8b1da5d62e2f125c01"
   },
   "outputs": [],
   "source": []
  },
  {
   "cell_type": "code",
   "execution_count": null,
   "metadata": {
    "_uuid": "c34d1954f807ba2ae9dbc95b0a249827bd0bc177"
   },
   "outputs": [],
   "source": []
  },
  {
   "cell_type": "code",
   "execution_count": null,
   "metadata": {
    "_uuid": "d87927de88a762a3a84221b13ca33f69c6deb8df"
   },
   "outputs": [],
   "source": []
  },
  {
   "cell_type": "code",
   "execution_count": null,
   "metadata": {
    "_uuid": "83f2270d8d9308512b57a2088060c622e99cf1a1"
   },
   "outputs": [],
   "source": []
  },
  {
   "cell_type": "code",
   "execution_count": null,
   "metadata": {
    "_uuid": "b6968944d76cd6b8f5513052f79a478cda0bb308"
   },
   "outputs": [],
   "source": []
  },
  {
   "cell_type": "code",
   "execution_count": null,
   "metadata": {
    "_uuid": "17b5a9104285bc613f49393917594b4b95c3fc82"
   },
   "outputs": [],
   "source": []
  },
  {
   "cell_type": "code",
   "execution_count": null,
   "metadata": {
    "_uuid": "a74f84057e27140ae33f0d8ee43b1347db6d51d2"
   },
   "outputs": [],
   "source": []
  },
  {
   "cell_type": "code",
   "execution_count": null,
   "metadata": {
    "_uuid": "524b9290cbc4e1d64fba2969b26a28889eca5f4c"
   },
   "outputs": [],
   "source": []
  }
 ],
 "metadata": {
  "kernelspec": {
   "display_name": "Python 3",
   "language": "python",
   "name": "python3"
  },
  "language_info": {
   "codemirror_mode": {
    "name": "ipython",
    "version": 3
   },
   "file_extension": ".py",
   "mimetype": "text/x-python",
   "name": "python",
   "nbconvert_exporter": "python",
   "pygments_lexer": "ipython3",
   "version": "3.7.1"
  }
 },
 "nbformat": 4,
 "nbformat_minor": 1
}
