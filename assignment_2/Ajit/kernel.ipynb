{
 "cells": [
  {
   "cell_type": "code",
   "execution_count": 1,
   "metadata": {
    "_uuid": "e1c94bd318ae67c0f8f883e2d676aea7938bda0f"
   },
   "outputs": [],
   "source": [
    "import torch\n",
    "import torch.nn as nn\n",
    "import torch.utils.data as data\n",
    "\n",
    "import random\n",
    "from tqdm import tqdm_notebook as tqdm\n",
    "random.seed(42)"
   ]
  },
  {
   "cell_type": "code",
   "execution_count": 2,
   "metadata": {
    "_uuid": "59d67d587f14409aafee12b5f49bb493583f838b"
   },
   "outputs": [],
   "source": [
    "import random\n"
   ]
  },
  {
   "cell_type": "code",
   "execution_count": 3,
   "metadata": {
    "_uuid": "0c84b6573ba20ceaf21c5feaddcc564e987dcd77"
   },
   "outputs": [],
   "source": [
    "class DataLoader(data.Dataset):\n",
    "    def __init__(self,max_train_value=1000, max_n=100,training_set_size=1000):\n",
    "        random_a_b_s=torch.sort(torch.randint(low=1,high=max_train_value+1,size=(training_set_size,2)))[0].double()\n",
    "        random_n_s=torch.randint(low=3,high=max_n, size=(training_set_size,1)).double()\n",
    "        self.lis_expected_outputs=[]\n",
    "        self.lis_inputs=[]\n",
    "        for index in range(training_set_size):\n",
    "            temp_input=[0,0,0]\n",
    "\n",
    "            temp_input[0]=random_a_b_s[index][0]\n",
    "            temp_input[1]=random_a_b_s[index][1]\n",
    "            temp_input[2]=random_n_s[index]\n",
    "            expected_output=[temp_input[0],temp_input[1]]\n",
    "            for i in range(int(temp_input[2])-2):\n",
    "                expected_output.append(expected_output[i]+expected_output[i+1])\n",
    "            input=torch.tensor(temp_input, dtype=torch.float64).unsqueeze(0)\n",
    "\n",
    "            output=torch.tensor(expected_output, dtype=torch.float64)\n",
    "            self.lis_expected_outputs.append(output)\n",
    "            self.lis_inputs.append(input)\n",
    "    def __len__(self):\n",
    "        return len(self.lis_inputs)\n",
    "    def __getitem__(self, idx):\n",
    "        dic_in_out={'input':self.lis_inputs[idx] , 'output':self.lis_expected_outputs[idx]}\n",
    "        return dic_in_out"
   ]
  },
  {
   "cell_type": "code",
   "execution_count": 4,
   "metadata": {
    "_uuid": "728825c2a2d00c2c183da4a67eef81aad5d713ff"
   },
   "outputs": [],
   "source": [
    "\n",
    "\n",
    "class MODEL(nn.Module):\n",
    "    def __init__(self , input_size ,hidden_size,  output_size):\n",
    "        super(MODEL, self).__init__()\n",
    "        self.hidden_size=hidden_size\n",
    "        self.i2h=nn.Linear(input_size+hidden_size, hidden_size,bias=False).double()\n",
    "        self.i2o=nn.Linear(input_size+hidden_size, output_size,bias=False).double()\n",
    "\n",
    "\n",
    "    def step(self, input , hidden):\n",
    "        combined=torch.cat((input,hidden),1)\n",
    "        hidden=self.i2h(combined)\n",
    "        output=self.i2o(combined)\n",
    "        return output,hidden\n",
    "    def forward(self , input):\n",
    "        hidden=self.initHidden()\n",
    "        n=int(input[0][2])\n",
    "        a=torch.tensor([int(input[0][0])],dtype=torch.float64).unsqueeze(0)\n",
    "        b=torch.tensor([int(input[0][1])] ,dtype=torch.float64).unsqueeze(0)\n",
    "\n",
    "        predictions=torch.zeros(size=(1,n)).double()\n",
    "        predictions[0,0]=a\n",
    "        predictions[0,1]=b\n",
    "        _,hidden=self.step(torch.tensor([a[0,0]], dtype=torch.float64).clone().unsqueeze(0),hidden)\n",
    "        for i in range(n-2):\n",
    "            temp_output,hidden=self.step(torch.tensor([predictions[0,i+1]] , dtype=torch.float64).clone().unsqueeze(0) , hidden)\n",
    "            predictions[0,i+2]=temp_output[0]\n",
    "        return predictions\n",
    "    def initHidden(self):\n",
    "        return torch.zeros(1, self.hidden_size).double()\n"
   ]
  },
  {
   "cell_type": "code",
   "execution_count": 5,
   "metadata": {
    "_uuid": "c4a295d298c2cc9797bc3cf87be725acf21c64cc"
   },
   "outputs": [],
   "source": [
    "\n",
    "n_hidden=1\n",
    "n_input=1\n",
    "n_output=1\n",
    "\n",
    "model=MODEL(n_input, n_hidden , n_output)"
   ]
  },
  {
   "cell_type": "code",
   "execution_count": 6,
   "metadata": {},
   "outputs": [],
   "source": [
    "def RelativeMSE(output, target):\n",
    "    return torch.mean(torch.mul(1/target , (target-output))**2)"
   ]
  },
  {
   "cell_type": "code",
   "execution_count": 7,
   "metadata": {
    "_uuid": "36df84f88ac178dff1fe56ae90bf200d29ba700d"
   },
   "outputs": [],
   "source": [
    "criterion=RelativeMSE"
   ]
  },
  {
   "cell_type": "code",
   "execution_count": 13,
   "metadata": {
    "_uuid": "5c94fb4226436f717434c56630b4bb8e45b3c419"
   },
   "outputs": [],
   "source": [
    "learning_rate=1e-2\n",
    "optimizer=torch.optim.Adam(model.parameters(),lr=learning_rate )\n",
    "def train(epochs=30):\n",
    "    dataset=DataLoader()\n",
    "    for i in tqdm(range(epochs), desc = 'epochs'):\n",
    "        for idx in tqdm(range(len(dataset)) , desc='sample'):\n",
    "            sample=dataset[idx]\n",
    "            input=sample['input']\n",
    "            expected_output=sample['output']\n",
    "            predictions=model(input )\n",
    "            loss=criterion(predictions , expected_output)\n",
    "\n",
    "            optimizer.zero_grad()\n",
    "\n",
    "            loss.backward()\n",
    "\n",
    "            clip=100\n",
    "            nn.utils.clip_grad_norm_(model.parameters() , clip)\n",
    "            optimizer.step()\n",
    "        \n",
    "\n",
    "    \n"
   ]
  },
  {
   "cell_type": "code",
   "execution_count": 14,
   "metadata": {
    "_uuid": "67c5741c122d81bbcbba725168330118514b93e2"
   },
   "outputs": [
    {
     "data": {
      "application/vnd.jupyter.widget-view+json": {
       "model_id": "21aefbb121484ffea309826bd4050b8a",
       "version_major": 2,
       "version_minor": 0
      },
      "text/plain": [
       "HBox(children=(IntProgress(value=0, description='epochs', max=30, style=ProgressStyle(description_width='initi…"
      ]
     },
     "metadata": {},
     "output_type": "display_data"
    },
    {
     "data": {
      "application/vnd.jupyter.widget-view+json": {
       "model_id": "192a4555d67346d9bfb0901a2e13a48a",
       "version_major": 2,
       "version_minor": 0
      },
      "text/plain": [
       "HBox(children=(IntProgress(value=0, description='sample', max=1000, style=ProgressStyle(description_width='ini…"
      ]
     },
     "metadata": {},
     "output_type": "display_data"
    },
    {
     "data": {
      "application/vnd.jupyter.widget-view+json": {
       "model_id": "a0843461555b45ee90443858782b24d2",
       "version_major": 2,
       "version_minor": 0
      },
      "text/plain": [
       "HBox(children=(IntProgress(value=0, description='sample', max=1000, style=ProgressStyle(description_width='ini…"
      ]
     },
     "metadata": {},
     "output_type": "display_data"
    },
    {
     "data": {
      "application/vnd.jupyter.widget-view+json": {
       "model_id": "e101aaa686924a80a9e84b62e41634ec",
       "version_major": 2,
       "version_minor": 0
      },
      "text/plain": [
       "HBox(children=(IntProgress(value=0, description='sample', max=1000, style=ProgressStyle(description_width='ini…"
      ]
     },
     "metadata": {},
     "output_type": "display_data"
    },
    {
     "data": {
      "application/vnd.jupyter.widget-view+json": {
       "model_id": "4cb0bba87ec74046add7917e17f90454",
       "version_major": 2,
       "version_minor": 0
      },
      "text/plain": [
       "HBox(children=(IntProgress(value=0, description='sample', max=1000, style=ProgressStyle(description_width='ini…"
      ]
     },
     "metadata": {},
     "output_type": "display_data"
    },
    {
     "data": {
      "application/vnd.jupyter.widget-view+json": {
       "model_id": "39e83ac6696546a6b9b8c536298768a5",
       "version_major": 2,
       "version_minor": 0
      },
      "text/plain": [
       "HBox(children=(IntProgress(value=0, description='sample', max=1000, style=ProgressStyle(description_width='ini…"
      ]
     },
     "metadata": {},
     "output_type": "display_data"
    },
    {
     "data": {
      "application/vnd.jupyter.widget-view+json": {
       "model_id": "e295be7accca4917a4d9f5ca0bbd50c7",
       "version_major": 2,
       "version_minor": 0
      },
      "text/plain": [
       "HBox(children=(IntProgress(value=0, description='sample', max=1000, style=ProgressStyle(description_width='ini…"
      ]
     },
     "metadata": {},
     "output_type": "display_data"
    },
    {
     "data": {
      "application/vnd.jupyter.widget-view+json": {
       "model_id": "7d5bfc0542554f64885d67f4179f7086",
       "version_major": 2,
       "version_minor": 0
      },
      "text/plain": [
       "HBox(children=(IntProgress(value=0, description='sample', max=1000, style=ProgressStyle(description_width='ini…"
      ]
     },
     "metadata": {},
     "output_type": "display_data"
    },
    {
     "data": {
      "application/vnd.jupyter.widget-view+json": {
       "model_id": "b9c04532595a4ebcae5bf316517b095b",
       "version_major": 2,
       "version_minor": 0
      },
      "text/plain": [
       "HBox(children=(IntProgress(value=0, description='sample', max=1000, style=ProgressStyle(description_width='ini…"
      ]
     },
     "metadata": {},
     "output_type": "display_data"
    },
    {
     "data": {
      "application/vnd.jupyter.widget-view+json": {
       "model_id": "202ad0f19d2640e3b457d2c62dfbec46",
       "version_major": 2,
       "version_minor": 0
      },
      "text/plain": [
       "HBox(children=(IntProgress(value=0, description='sample', max=1000, style=ProgressStyle(description_width='ini…"
      ]
     },
     "metadata": {},
     "output_type": "display_data"
    },
    {
     "data": {
      "application/vnd.jupyter.widget-view+json": {
       "model_id": "02419e19be914635b249be932955cd94",
       "version_major": 2,
       "version_minor": 0
      },
      "text/plain": [
       "HBox(children=(IntProgress(value=0, description='sample', max=1000, style=ProgressStyle(description_width='ini…"
      ]
     },
     "metadata": {},
     "output_type": "display_data"
    },
    {
     "data": {
      "application/vnd.jupyter.widget-view+json": {
       "model_id": "097c3630ba744c72840e15349f74b76c",
       "version_major": 2,
       "version_minor": 0
      },
      "text/plain": [
       "HBox(children=(IntProgress(value=0, description='sample', max=1000, style=ProgressStyle(description_width='ini…"
      ]
     },
     "metadata": {},
     "output_type": "display_data"
    },
    {
     "data": {
      "application/vnd.jupyter.widget-view+json": {
       "model_id": "302c1c025bb54be08280131933324ef3",
       "version_major": 2,
       "version_minor": 0
      },
      "text/plain": [
       "HBox(children=(IntProgress(value=0, description='sample', max=1000, style=ProgressStyle(description_width='ini…"
      ]
     },
     "metadata": {},
     "output_type": "display_data"
    },
    {
     "data": {
      "application/vnd.jupyter.widget-view+json": {
       "model_id": "be3bba6e100c415d8641d264b01ea7d7",
       "version_major": 2,
       "version_minor": 0
      },
      "text/plain": [
       "HBox(children=(IntProgress(value=0, description='sample', max=1000, style=ProgressStyle(description_width='ini…"
      ]
     },
     "metadata": {},
     "output_type": "display_data"
    },
    {
     "data": {
      "application/vnd.jupyter.widget-view+json": {
       "model_id": "ee09af6e756d4348b9162a4513fa497f",
       "version_major": 2,
       "version_minor": 0
      },
      "text/plain": [
       "HBox(children=(IntProgress(value=0, description='sample', max=1000, style=ProgressStyle(description_width='ini…"
      ]
     },
     "metadata": {},
     "output_type": "display_data"
    },
    {
     "data": {
      "application/vnd.jupyter.widget-view+json": {
       "model_id": "5a1bdbd485a74f6d9278dd2642b023ae",
       "version_major": 2,
       "version_minor": 0
      },
      "text/plain": [
       "HBox(children=(IntProgress(value=0, description='sample', max=1000, style=ProgressStyle(description_width='ini…"
      ]
     },
     "metadata": {},
     "output_type": "display_data"
    },
    {
     "data": {
      "application/vnd.jupyter.widget-view+json": {
       "model_id": "3fba317009f74988ab47621834c0c505",
       "version_major": 2,
       "version_minor": 0
      },
      "text/plain": [
       "HBox(children=(IntProgress(value=0, description='sample', max=1000, style=ProgressStyle(description_width='ini…"
      ]
     },
     "metadata": {},
     "output_type": "display_data"
    },
    {
     "data": {
      "application/vnd.jupyter.widget-view+json": {
       "model_id": "234fc8dffb6849fa9b4cec724405c255",
       "version_major": 2,
       "version_minor": 0
      },
      "text/plain": [
       "HBox(children=(IntProgress(value=0, description='sample', max=1000, style=ProgressStyle(description_width='ini…"
      ]
     },
     "metadata": {},
     "output_type": "display_data"
    },
    {
     "data": {
      "application/vnd.jupyter.widget-view+json": {
       "model_id": "ead04e020d984a4dbc04300dbca5179c",
       "version_major": 2,
       "version_minor": 0
      },
      "text/plain": [
       "HBox(children=(IntProgress(value=0, description='sample', max=1000, style=ProgressStyle(description_width='ini…"
      ]
     },
     "metadata": {},
     "output_type": "display_data"
    },
    {
     "data": {
      "application/vnd.jupyter.widget-view+json": {
       "model_id": "2ef88ef18f4f45c9af285cd7aa0b7ce8",
       "version_major": 2,
       "version_minor": 0
      },
      "text/plain": [
       "HBox(children=(IntProgress(value=0, description='sample', max=1000, style=ProgressStyle(description_width='ini…"
      ]
     },
     "metadata": {},
     "output_type": "display_data"
    },
    {
     "data": {
      "application/vnd.jupyter.widget-view+json": {
       "model_id": "f1954920e71741d0a7445fc8d5eae442",
       "version_major": 2,
       "version_minor": 0
      },
      "text/plain": [
       "HBox(children=(IntProgress(value=0, description='sample', max=1000, style=ProgressStyle(description_width='ini…"
      ]
     },
     "metadata": {},
     "output_type": "display_data"
    },
    {
     "data": {
      "application/vnd.jupyter.widget-view+json": {
       "model_id": "9d83d8c179464a548c4a9d84ce6670aa",
       "version_major": 2,
       "version_minor": 0
      },
      "text/plain": [
       "HBox(children=(IntProgress(value=0, description='sample', max=1000, style=ProgressStyle(description_width='ini…"
      ]
     },
     "metadata": {},
     "output_type": "display_data"
    },
    {
     "data": {
      "application/vnd.jupyter.widget-view+json": {
       "model_id": "aedfe2722ed44638b7cde154864fb629",
       "version_major": 2,
       "version_minor": 0
      },
      "text/plain": [
       "HBox(children=(IntProgress(value=0, description='sample', max=1000, style=ProgressStyle(description_width='ini…"
      ]
     },
     "metadata": {},
     "output_type": "display_data"
    },
    {
     "data": {
      "application/vnd.jupyter.widget-view+json": {
       "model_id": "f49dc19bd7b7434fa0c812c95fa9c9a9",
       "version_major": 2,
       "version_minor": 0
      },
      "text/plain": [
       "HBox(children=(IntProgress(value=0, description='sample', max=1000, style=ProgressStyle(description_width='ini…"
      ]
     },
     "metadata": {},
     "output_type": "display_data"
    },
    {
     "data": {
      "application/vnd.jupyter.widget-view+json": {
       "model_id": "d48cf369a29740e6b4e0b2941c9b41a6",
       "version_major": 2,
       "version_minor": 0
      },
      "text/plain": [
       "HBox(children=(IntProgress(value=0, description='sample', max=1000, style=ProgressStyle(description_width='ini…"
      ]
     },
     "metadata": {},
     "output_type": "display_data"
    },
    {
     "data": {
      "application/vnd.jupyter.widget-view+json": {
       "model_id": "e50d93eeba384c14ad9ac59be7b8d26b",
       "version_major": 2,
       "version_minor": 0
      },
      "text/plain": [
       "HBox(children=(IntProgress(value=0, description='sample', max=1000, style=ProgressStyle(description_width='ini…"
      ]
     },
     "metadata": {},
     "output_type": "display_data"
    },
    {
     "data": {
      "application/vnd.jupyter.widget-view+json": {
       "model_id": "2c3177c8c2a440b9b977abcd3a37ad2e",
       "version_major": 2,
       "version_minor": 0
      },
      "text/plain": [
       "HBox(children=(IntProgress(value=0, description='sample', max=1000, style=ProgressStyle(description_width='ini…"
      ]
     },
     "metadata": {},
     "output_type": "display_data"
    },
    {
     "data": {
      "application/vnd.jupyter.widget-view+json": {
       "model_id": "7eaa652fb9294d2f82b16639a4b4f501",
       "version_major": 2,
       "version_minor": 0
      },
      "text/plain": [
       "HBox(children=(IntProgress(value=0, description='sample', max=1000, style=ProgressStyle(description_width='ini…"
      ]
     },
     "metadata": {},
     "output_type": "display_data"
    },
    {
     "data": {
      "application/vnd.jupyter.widget-view+json": {
       "model_id": "c3b657ed2a5d42d8a75daad0f126248d",
       "version_major": 2,
       "version_minor": 0
      },
      "text/plain": [
       "HBox(children=(IntProgress(value=0, description='sample', max=1000, style=ProgressStyle(description_width='ini…"
      ]
     },
     "metadata": {},
     "output_type": "display_data"
    },
    {
     "data": {
      "application/vnd.jupyter.widget-view+json": {
       "model_id": "d4d55e5b678d48ac93c99d4e449ba74f",
       "version_major": 2,
       "version_minor": 0
      },
      "text/plain": [
       "HBox(children=(IntProgress(value=0, description='sample', max=1000, style=ProgressStyle(description_width='ini…"
      ]
     },
     "metadata": {},
     "output_type": "display_data"
    },
    {
     "data": {
      "application/vnd.jupyter.widget-view+json": {
       "model_id": "4dfe80601aed465eb8af761922046b83",
       "version_major": 2,
       "version_minor": 0
      },
      "text/plain": [
       "HBox(children=(IntProgress(value=0, description='sample', max=1000, style=ProgressStyle(description_width='ini…"
      ]
     },
     "metadata": {},
     "output_type": "display_data"
    },
    {
     "name": "stdout",
     "output_type": "stream",
     "text": [
      "\n"
     ]
    }
   ],
   "source": [
    "train()"
   ]
  },
  {
   "cell_type": "code",
   "execution_count": 10,
   "metadata": {
    "_uuid": "257b55f8f3957d86a41fc4c2b1cd3983e66fc50c"
   },
   "outputs": [
    {
     "name": "stdout",
     "output_type": "stream",
     "text": [
      "tensor([[ 13.0000,  40.0000,  53.0038,  92.2213, 145.6333]],\n",
      "       dtype=torch.float64, grad_fn=<CopySlices>)\n"
     ]
    }
   ],
   "source": [
    "\n",
    "output=(model(torch.tensor([13,40,5], dtype=torch.float64).unsqueeze(0)))\n",
    "print(output)\n"
   ]
  },
  {
   "cell_type": "code",
   "execution_count": 12,
   "metadata": {
    "_uuid": "9cc281edc87b77fc65aba37af2b9d236d1d7fb73"
   },
   "outputs": [
    {
     "name": "stdout",
     "output_type": "stream",
     "text": [
      "tensor([[1.0194, 0.7349]], dtype=torch.float64)\n",
      "tensor([[1.2799, 0.0463]], dtype=torch.float64)\n"
     ]
    }
   ],
   "source": [
    "print(model.i2o.weight.data)\n",
    "print(model.i2h.weight.data)"
   ]
  },
  {
   "cell_type": "code",
   "execution_count": 32,
   "metadata": {
    "_uuid": "8094f0a50da6ca5831433730357688a4dd375824"
   },
   "outputs": [],
   "source": [
    "#save the maodel to a data file\n",
    "torch.save(model, \"./data.pt\")"
   ]
  },
  {
   "cell_type": "code",
   "execution_count": null,
   "metadata": {
    "_uuid": "ea2832cc781727025d826d27a4ba58c581548e4c"
   },
   "outputs": [],
   "source": []
  },
  {
   "cell_type": "code",
   "execution_count": null,
   "metadata": {
    "_uuid": "433bc276c039f28614211db2736ad62c29c8c6b8"
   },
   "outputs": [],
   "source": []
  },
  {
   "cell_type": "code",
   "execution_count": null,
   "metadata": {
    "_uuid": "c79358b49ec767dd0c841dc3e53b3b40b62eb4c7"
   },
   "outputs": [],
   "source": []
  },
  {
   "cell_type": "code",
   "execution_count": null,
   "metadata": {
    "_uuid": "7659540d216e3b927344fc03ddb15ebccd1f9db6"
   },
   "outputs": [],
   "source": []
  },
  {
   "cell_type": "code",
   "execution_count": null,
   "metadata": {
    "_uuid": "78fcd3d475ac43759cb42e056249fa1bf50a41d7"
   },
   "outputs": [],
   "source": []
  },
  {
   "cell_type": "code",
   "execution_count": null,
   "metadata": {
    "_uuid": "8a7873464a5bc6871ff0790406a0544dbbfc0fab"
   },
   "outputs": [],
   "source": []
  },
  {
   "cell_type": "code",
   "execution_count": null,
   "metadata": {
    "_uuid": "c1d993def69d64f517c6713ac9e2b61793a87550"
   },
   "outputs": [],
   "source": []
  },
  {
   "cell_type": "code",
   "execution_count": null,
   "metadata": {
    "_uuid": "326069f1413e4660f10cdb1bc02543ee07609a8d"
   },
   "outputs": [],
   "source": []
  },
  {
   "cell_type": "code",
   "execution_count": null,
   "metadata": {
    "_uuid": "06cf6fabb0f829a351da556f953f9294c99043dc"
   },
   "outputs": [],
   "source": []
  },
  {
   "cell_type": "code",
   "execution_count": null,
   "metadata": {
    "_uuid": "a014ca925d20e3e8ffafbb8b1da5d62e2f125c01"
   },
   "outputs": [],
   "source": []
  },
  {
   "cell_type": "code",
   "execution_count": null,
   "metadata": {
    "_uuid": "c34d1954f807ba2ae9dbc95b0a249827bd0bc177"
   },
   "outputs": [],
   "source": []
  },
  {
   "cell_type": "code",
   "execution_count": null,
   "metadata": {
    "_uuid": "d87927de88a762a3a84221b13ca33f69c6deb8df"
   },
   "outputs": [],
   "source": []
  },
  {
   "cell_type": "code",
   "execution_count": null,
   "metadata": {
    "_uuid": "83f2270d8d9308512b57a2088060c622e99cf1a1"
   },
   "outputs": [],
   "source": []
  },
  {
   "cell_type": "code",
   "execution_count": null,
   "metadata": {
    "_uuid": "b6968944d76cd6b8f5513052f79a478cda0bb308"
   },
   "outputs": [],
   "source": []
  },
  {
   "cell_type": "code",
   "execution_count": null,
   "metadata": {
    "_uuid": "17b5a9104285bc613f49393917594b4b95c3fc82"
   },
   "outputs": [],
   "source": []
  },
  {
   "cell_type": "code",
   "execution_count": null,
   "metadata": {
    "_uuid": "a74f84057e27140ae33f0d8ee43b1347db6d51d2"
   },
   "outputs": [],
   "source": []
  },
  {
   "cell_type": "code",
   "execution_count": null,
   "metadata": {
    "_uuid": "524b9290cbc4e1d64fba2969b26a28889eca5f4c"
   },
   "outputs": [],
   "source": []
  }
 ],
 "metadata": {
  "kernelspec": {
   "display_name": "Python 3",
   "language": "python",
   "name": "python3"
  },
  "language_info": {
   "codemirror_mode": {
    "name": "ipython",
    "version": 3
   },
   "file_extension": ".py",
   "mimetype": "text/x-python",
   "name": "python",
   "nbconvert_exporter": "python",
   "pygments_lexer": "ipython3",
   "version": "3.7.1"
  }
 },
 "nbformat": 4,
 "nbformat_minor": 1
}
